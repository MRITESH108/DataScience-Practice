{
  "nbformat": 4,
  "nbformat_minor": 0,
  "metadata": {
    "colab": {
      "provenance": [],
      "authorship_tag": "ABX9TyN8hDV01rB6M2HueytsxHj6",
      "include_colab_link": true
    },
    "kernelspec": {
      "name": "python3",
      "display_name": "Python 3"
    },
    "language_info": {
      "name": "python"
    }
  },
  "cells": [
    {
      "cell_type": "markdown",
      "metadata": {
        "id": "view-in-github",
        "colab_type": "text"
      },
      "source": [
        "<a href=\"https://colab.research.google.com/github/MRITESH108/DataScience-Practice/blob/main/Practice1.ipynb\" target=\"_parent\"><img src=\"https://colab.research.google.com/assets/colab-badge.svg\" alt=\"Open In Colab\"/></a>"
      ]
    },
    {
      "cell_type": "code",
      "execution_count": 4,
      "metadata": {
        "colab": {
          "base_uri": "https://localhost:8080/"
        },
        "id": "lGX_OL0m2p3N",
        "outputId": "fe7a8261-1edf-43f2-bf8f-e7d121c83137"
      },
      "outputs": [
        {
          "output_type": "stream",
          "name": "stdout",
          "text": [
            "     Name  Age\n",
            "0  Ritesh   21\n",
            "1   Rahul   25\n",
            "2  Ragini   18\n"
          ]
        }
      ],
      "source": [
        "import pandas as pd\n",
        "data={\n",
        "    'Name':[\"Ritesh\",\"Rahul\",\"Ragini\"],\n",
        "    'Age':[21,25,18]\n",
        "}\n",
        "df=pd.DataFrame(data)\n",
        "print(df)\n"
      ]
    },
    {
      "cell_type": "code",
      "source": [
        "df=pd.read_csv('people-10000.csv')\n",
        "print(df.head(5))"
      ],
      "metadata": {
        "colab": {
          "base_uri": "https://localhost:8080/"
        },
        "id": "PqQ0-5aF4L5O",
        "outputId": "3cb88e9e-5a8e-44fe-ff60-98595aab2b87"
      },
      "execution_count": 5,
      "outputs": [
        {
          "output_type": "stream",
          "name": "stdout",
          "text": [
            "   Index          User Id First Name Last Name     Sex  \\\n",
            "0      1  5f10e9D33fC5f2b       Sara   Mcguire  Female   \n",
            "1      2  751cD1cbF77e005     Alisha    Hebert    Male   \n",
            "2      3  DcEFDB2D2e62bF9  Gwendolyn  Sheppard    Male   \n",
            "3      4  C88661E02EEDA9e   Kristine    Mccann  Female   \n",
            "4      5  fafF1aBDebaB2a6      Bobby   Pittman  Female   \n",
            "\n",
            "                         Email                  Phone Date of birth  \\\n",
            "0           tsharp@example.net     (971)643-6089x9160    1921-08-17   \n",
            "1   vincentgarrett@example.net  +1-114-355-1841x78347    1969-06-28   \n",
            "2  mercadojonathan@example.com             9017807728    1915-09-25   \n",
            "3        lindsay55@example.com  +1-607-333-9911x59088    1978-07-27   \n",
            "4    blevinsmorgan@example.com             3739847538    1989-11-17   \n",
            "\n",
            "                           Job Title  \n",
            "0              Editor, commissioning  \n",
            "1                 Broadcast engineer  \n",
            "2                   Industrial buyer  \n",
            "3              Multimedia specialist  \n",
            "4  Planning and development surveyor  \n"
          ]
        }
      ]
    },
    {
      "cell_type": "code",
      "source": [
        "df=pd.read_csv('people-10000.csv')\n",
        "print(df.tail(5))\n",
        "df['User Id']"
      ],
      "metadata": {
        "colab": {
          "base_uri": "https://localhost:8080/",
          "height": 821
        },
        "id": "fVEX46x45uBO",
        "outputId": "c557baba-b4d0-46ad-d7c4-635aef0d435e"
      },
      "execution_count": 7,
      "outputs": [
        {
          "output_type": "stream",
          "name": "stdout",
          "text": [
            "      Index          User Id First Name  Last Name     Sex  \\\n",
            "9995   9996  D66F0e4EdFc35e6       Tina    Sherman    Male   \n",
            "9996   9997  c753d8B9F5b6054       Earl   Jennings  Female   \n",
            "9997   9998  Fb2c7daAdD82dAE      Ellen  Dominguez  Female   \n",
            "9998   9999  34D88Ffc743Ca5B       Emma      Clark    Male   \n",
            "9999  10000  82D540ce0BE556f    Katrina   Schwartz  Female   \n",
            "\n",
            "                            Email                   Phone Date of birth  \\\n",
            "9995  bartlettcolleen@example.org      (455)476-4044x5755    1974-07-28   \n",
            "9996     andreabenton@example.com            009.056.6505    1932-08-20   \n",
            "9997    michaelayoder@example.net        409-428-4297x469    1966-06-06   \n",
            "9998      pstrickland@example.com            849-868-8653    1907-05-09   \n",
            "9999         andres56@example.org  001-874-330-5546x16770    1935-08-14   \n",
            "\n",
            "                     Job Title  \n",
            "9995  Scientist, physiological  \n",
            "9996         Warehouse manager  \n",
            "9997                    Lawyer  \n",
            "9998     Accounting technician  \n",
            "9999         Drilling engineer  \n"
          ]
        },
        {
          "output_type": "execute_result",
          "data": {
            "text/plain": [
              "0       5f10e9D33fC5f2b\n",
              "1       751cD1cbF77e005\n",
              "2       DcEFDB2D2e62bF9\n",
              "3       C88661E02EEDA9e\n",
              "4       fafF1aBDebaB2a6\n",
              "             ...       \n",
              "9995    D66F0e4EdFc35e6\n",
              "9996    c753d8B9F5b6054\n",
              "9997    Fb2c7daAdD82dAE\n",
              "9998    34D88Ffc743Ca5B\n",
              "9999    82D540ce0BE556f\n",
              "Name: User Id, Length: 10000, dtype: object"
            ],
            "text/html": [
              "<div>\n",
              "<style scoped>\n",
              "    .dataframe tbody tr th:only-of-type {\n",
              "        vertical-align: middle;\n",
              "    }\n",
              "\n",
              "    .dataframe tbody tr th {\n",
              "        vertical-align: top;\n",
              "    }\n",
              "\n",
              "    .dataframe thead th {\n",
              "        text-align: right;\n",
              "    }\n",
              "</style>\n",
              "<table border=\"1\" class=\"dataframe\">\n",
              "  <thead>\n",
              "    <tr style=\"text-align: right;\">\n",
              "      <th></th>\n",
              "      <th>User Id</th>\n",
              "    </tr>\n",
              "  </thead>\n",
              "  <tbody>\n",
              "    <tr>\n",
              "      <th>0</th>\n",
              "      <td>5f10e9D33fC5f2b</td>\n",
              "    </tr>\n",
              "    <tr>\n",
              "      <th>1</th>\n",
              "      <td>751cD1cbF77e005</td>\n",
              "    </tr>\n",
              "    <tr>\n",
              "      <th>2</th>\n",
              "      <td>DcEFDB2D2e62bF9</td>\n",
              "    </tr>\n",
              "    <tr>\n",
              "      <th>3</th>\n",
              "      <td>C88661E02EEDA9e</td>\n",
              "    </tr>\n",
              "    <tr>\n",
              "      <th>4</th>\n",
              "      <td>fafF1aBDebaB2a6</td>\n",
              "    </tr>\n",
              "    <tr>\n",
              "      <th>...</th>\n",
              "      <td>...</td>\n",
              "    </tr>\n",
              "    <tr>\n",
              "      <th>9995</th>\n",
              "      <td>D66F0e4EdFc35e6</td>\n",
              "    </tr>\n",
              "    <tr>\n",
              "      <th>9996</th>\n",
              "      <td>c753d8B9F5b6054</td>\n",
              "    </tr>\n",
              "    <tr>\n",
              "      <th>9997</th>\n",
              "      <td>Fb2c7daAdD82dAE</td>\n",
              "    </tr>\n",
              "    <tr>\n",
              "      <th>9998</th>\n",
              "      <td>34D88Ffc743Ca5B</td>\n",
              "    </tr>\n",
              "    <tr>\n",
              "      <th>9999</th>\n",
              "      <td>82D540ce0BE556f</td>\n",
              "    </tr>\n",
              "  </tbody>\n",
              "</table>\n",
              "<p>10000 rows × 1 columns</p>\n",
              "</div><br><label><b>dtype:</b> object</label>"
            ]
          },
          "metadata": {},
          "execution_count": 7
        }
      ]
    },
    {
      "cell_type": "code",
      "source": [],
      "metadata": {
        "id": "FMkhRjgw87kF"
      },
      "execution_count": null,
      "outputs": []
    }
  ]
}