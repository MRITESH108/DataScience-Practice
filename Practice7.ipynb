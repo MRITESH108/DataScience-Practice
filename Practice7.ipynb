{
  "nbformat": 4,
  "nbformat_minor": 0,
  "metadata": {
    "colab": {
      "provenance": [],
      "authorship_tag": "ABX9TyNjUxPhxXQeYR26rswDOTXh"
    },
    "kernelspec": {
      "name": "python3",
      "display_name": "Python 3"
    },
    "language_info": {
      "name": "python"
    }
  },
  "cells": [
    {
      "cell_type": "code",
      "execution_count": 2,
      "metadata": {
        "colab": {
          "base_uri": "https://localhost:8080/"
        },
        "id": "Ty0qWZFF0k1N",
        "outputId": "0e92be27-7a32-4629-ea63-3aa33786ba0a"
      },
      "outputs": [
        {
          "output_type": "stream",
          "name": "stderr",
          "text": [
            "ERROR:ArithmeticApp:Tried to divide by zero\n",
            "Traceback (most recent call last):\n",
            "  File \"/tmp/ipython-input-2-2977395310.py\", line 35, in divide\n",
            "    result=a/b\n",
            "           ~^~\n",
            "ZeroDivisionError: division by zero\n"
          ]
        },
        {
          "output_type": "execute_result",
          "data": {
            "text/plain": [
              "1.3333333333333333"
            ]
          },
          "metadata": {},
          "execution_count": 2
        }
      ],
      "source": [
        "import logging\n",
        "\n",
        "# logging setting\n",
        "\n",
        "logging.basicConfig(\n",
        "    level=logging.DEBUG,\n",
        "    format='%(asctime)s - %(name)s - %(levelname)s - %(message)s',\n",
        "    datefmt='%Y-%m-%d %H:%M:%S',\n",
        "    handlers=[\n",
        "        logging.FileHandler('debug.log'),    # a debug file will be created\n",
        "        logging.StreamHandler()\n",
        "    ]\n",
        ")\n",
        "\n",
        "\n",
        "logger=logging.getLogger(\"ArithmeticApp\")\n",
        "\n",
        "def add(a,b):\n",
        "  result=a+b\n",
        "  logger.debug(f\"adding {a} + {b} = {result}\")\n",
        "  return result\n",
        "\n",
        "def subtract(a,b):\n",
        "  result=a-b\n",
        "  logger.debug(f\"subtracting {a} - {b} = {result}\")\n",
        "  return result\n",
        "\n",
        "def multiply(a,b):\n",
        "  result=a*b\n",
        "  logger.debug(f\"multiplying {a} * {b} = {result}\")\n",
        "  return result\n",
        "\n",
        "def divide(a,b):\n",
        "  try:\n",
        "    result=a/b\n",
        "    logger.debug(f\"dividing {a} / {b} = {result}\")\n",
        "    return result\n",
        "  except ZeroDivisionError:\n",
        "    logger.exception(\"Tried to divide by zero\")\n",
        "    return None\n",
        "\n",
        "add(20,25)\n",
        "subtract(20,25)\n",
        "multiply(20,25)\n",
        "divide(20,25)\n",
        "divide(20,0) # This will cause a ZeroDivisionError\n",
        "divide(20,15)"
      ]
    }
  ]
}