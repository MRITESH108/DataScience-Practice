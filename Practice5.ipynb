{
  "nbformat": 4,
  "nbformat_minor": 0,
  "metadata": {
    "colab": {
      "provenance": [],
      "authorship_tag": "ABX9TyOux+SZNZRi3B5d3v3ifh1u"
    },
    "kernelspec": {
      "name": "python3",
      "display_name": "Python 3"
    },
    "language_info": {
      "name": "python"
    }
  },
  "cells": [
    {
      "cell_type": "code",
      "execution_count": 1,
      "metadata": {
        "id": "4SVh8tVPMrn9"
      },
      "outputs": [],
      "source": [
        "import sqlite3"
      ]
    },
    {
      "cell_type": "code",
      "source": [
        "# connect SQLite databases\n",
        "\n",
        "\n",
        "connection=sqlite3.connect(\"chinook.db\")\n",
        "connection"
      ],
      "metadata": {
        "colab": {
          "base_uri": "https://localhost:8080/"
        },
        "id": "ZN78bW2zM5h3",
        "outputId": "12eee258-e9de-4861-a48a-28b9047bd041"
      },
      "execution_count": 2,
      "outputs": [
        {
          "output_type": "execute_result",
          "data": {
            "text/plain": [
              "<sqlite3.Connection at 0x7a2b186305e0>"
            ]
          },
          "metadata": {},
          "execution_count": 2
        }
      ]
    },
    {
      "cell_type": "code",
      "source": [
        "cursor=connection.cursor()"
      ],
      "metadata": {
        "id": "m4mlOgpTNvVH"
      },
      "execution_count": 3,
      "outputs": []
    },
    {
      "cell_type": "code",
      "source": [
        "# create a table\n",
        "\n",
        "cursor.execute(\n",
        "    \"\"\"\n",
        "    CREATE TABLE IF NOT EXISTS users(\n",
        "        id INTEGER PRIMARY KEY AUTOINCREMENT,\n",
        "        username TEXT NOT NULL,\n",
        "        password TEXT NOT NULL\n",
        "    )\n",
        "\"\"\"\n",
        ")"
      ],
      "metadata": {
        "colab": {
          "base_uri": "https://localhost:8080/"
        },
        "id": "-tbBphH2N0AT",
        "outputId": "94acb21b-5d3c-406d-be36-62500c028867"
      },
      "execution_count": 4,
      "outputs": [
        {
          "output_type": "execute_result",
          "data": {
            "text/plain": [
              "<sqlite3.Cursor at 0x7a2b186803c0>"
            ]
          },
          "metadata": {},
          "execution_count": 4
        }
      ]
    },
    {
      "cell_type": "code",
      "source": [
        "cursor.execute(\n",
        "    \"\"\"\n",
        "    select * from users\n",
        "\"\"\"\n",
        ")\n"
      ],
      "metadata": {
        "colab": {
          "base_uri": "https://localhost:8080/"
        },
        "id": "V3YH0eTSO3Kr",
        "outputId": "9d079256-d7e7-4e04-d0ba-1da4f737ccd5"
      },
      "execution_count": 6,
      "outputs": [
        {
          "output_type": "execute_result",
          "data": {
            "text/plain": [
              "<sqlite3.Cursor at 0x7a2b186803c0>"
            ]
          },
          "metadata": {},
          "execution_count": 6
        }
      ]
    },
    {
      "cell_type": "code",
      "source": [
        "cursor.execute(\n",
        "    '''\n",
        "      insert into users(username,password) values('Ritesh' ,'ritesh')\n",
        "    '''\n",
        ")\n",
        "\n",
        "# commit changes\n",
        "\n",
        "connection.commit()"
      ],
      "metadata": {
        "id": "SPrjfTl1PC_q"
      },
      "execution_count": 7,
      "outputs": []
    },
    {
      "cell_type": "code",
      "source": [
        "# query the table\n",
        "\n",
        "cursor.execute(\n",
        "    \"\"\"\n",
        "    select * from users\n",
        "\"\"\"\n",
        ")\n",
        "\n",
        "# Fetch all the results from the cursor\n",
        "results = cursor.fetchall()\n",
        "\n",
        "# Print the results\n",
        "print(results)\n"
      ],
      "metadata": {
        "colab": {
          "base_uri": "https://localhost:8080/"
        },
        "id": "b1F75D4hPnZ-",
        "outputId": "34cb40af-5854-4398-e316-bd1168710d89"
      },
      "execution_count": 9,
      "outputs": [
        {
          "output_type": "stream",
          "name": "stdout",
          "text": [
            "[(1, 'Ritesh', 'ritesh')]\n"
          ]
        }
      ]
    },
    {
      "cell_type": "code",
      "metadata": {
        "colab": {
          "base_uri": "https://localhost:8080/"
        },
        "id": "e00fc3d7",
        "outputId": "f0b1e547-8488-4f5a-e23b-d6ed6271af3c"
      },
      "source": [
        "# update data in table\n",
        "\n",
        "cursor.execute('''\n",
        "     update users\n",
        "     set username='Ritesh Kumar' where username='Ritesh'\n",
        "''' )\n",
        "\n",
        "connection.commit()\n",
        "\n"
      ],
      "execution_count": 16,
      "outputs": [
        {
          "output_type": "stream",
          "name": "stdout",
          "text": [
            "[]\n"
          ]
        }
      ]
    },
    {
      "cell_type": "code",
      "source": [
        "# query the table\n",
        "\n",
        "cursor.execute(\n",
        "    \"\"\"\n",
        "    select * from users\n",
        "\"\"\"\n",
        ")\n",
        "\n",
        "# Fetch all the results from the cursor\n",
        "results = cursor.fetchall()\n",
        "\n",
        "# Print the results\n",
        "print(results)"
      ],
      "metadata": {
        "colab": {
          "base_uri": "https://localhost:8080/"
        },
        "id": "tkJeV2YJSmDn",
        "outputId": "d50e6088-e569-4f63-d79d-03b13720932e"
      },
      "execution_count": 17,
      "outputs": [
        {
          "output_type": "stream",
          "name": "stdout",
          "text": [
            "[(1, 'Ritesh Kumar', 'ritesh')]\n"
          ]
        }
      ]
    },
    {
      "cell_type": "code",
      "source": [
        "# insert more data\n",
        "\n",
        "cursor.execute(\n",
        "    '''\n",
        "      insert into users(username,password)\n",
        "            values('Rahul' ,'rahul')\n",
        "    '''\n",
        ")\n",
        "\n",
        "cursor.execute(\n",
        "    '''\n",
        "      insert into users(username,password)\n",
        "            values('Ragini' ,'ragini')\n",
        "    '''\n",
        ")\n",
        "\n",
        "# commit changes\n",
        "\n",
        "connection.commit()"
      ],
      "metadata": {
        "id": "tYzWQNXwSxqk"
      },
      "execution_count": 18,
      "outputs": []
    },
    {
      "cell_type": "code",
      "source": [
        "cursor.execute(\n",
        "    \"\"\"\n",
        "    select * from users\n",
        "\"\"\"\n",
        ")\n",
        "\n",
        "# Fetch all the results from the cursor\n",
        "results = cursor.fetchall()\n",
        "\n",
        "# Print the results\n",
        "for row in results:\n",
        "    print(row)"
      ],
      "metadata": {
        "colab": {
          "base_uri": "https://localhost:8080/"
        },
        "id": "O3Rc7cAAToh4",
        "outputId": "12a79757-007f-4290-d29d-d8af3517c6e3"
      },
      "execution_count": 20,
      "outputs": [
        {
          "output_type": "stream",
          "name": "stdout",
          "text": [
            "(1, 'Ritesh Kumar', 'ritesh')\n",
            "(2, 'Rahul', 'rahul')\n",
            "(3, 'Ragini', 'ragini')\n"
          ]
        }
      ]
    },
    {
      "cell_type": "code",
      "source": [
        "# delete data from table\n",
        "\n",
        "\n",
        "cursor.execute('''\n",
        "     delete from users\n",
        "            where password='ragini'\n",
        "''' )\n",
        "\n",
        "connection.commit()\n",
        "\n",
        "# cursor.execute('''\n",
        "#      delete from users\n",
        "#             where username='Rahul'\n",
        "# ''' )\n",
        "\n",
        "# connection.commit()"
      ],
      "metadata": {
        "id": "V4GvM8RWUEz-"
      },
      "execution_count": 27,
      "outputs": []
    },
    {
      "cell_type": "code",
      "source": [
        "cursor.execute(\n",
        "    \"\"\"\n",
        "    select * from users\n",
        "\"\"\"\n",
        ")\n",
        "\n",
        "# Fetch all the results from the cursor\n",
        "results = cursor.fetchall()\n",
        "\n",
        "# Print the results\n",
        "for row in results:\n",
        "    print(row)"
      ],
      "metadata": {
        "colab": {
          "base_uri": "https://localhost:8080/"
        },
        "id": "4QSSvHIUUTY5",
        "outputId": "5e190897-6268-466f-fb1a-ece1be3d05de"
      },
      "execution_count": 28,
      "outputs": [
        {
          "output_type": "stream",
          "name": "stdout",
          "text": [
            "(1, 'Ritesh Kumar', 'ritesh')\n",
            "(2, 'Rahul', 'rahul')\n"
          ]
        }
      ]
    },
    {
      "cell_type": "code",
      "source": [
        "# working with sales data sqlite3\n",
        "\n",
        "connection=sqlite3.connect(\"sales.db\")\n",
        "connection\n",
        "\n"
      ],
      "metadata": {
        "colab": {
          "base_uri": "https://localhost:8080/"
        },
        "id": "BJgIjstvUxW-",
        "outputId": "b42fb246-c408-4a3a-a95f-b83aab74f470"
      },
      "execution_count": 30,
      "outputs": [
        {
          "output_type": "execute_result",
          "data": {
            "text/plain": [
              "<sqlite3.Connection at 0x7a2b18632200>"
            ]
          },
          "metadata": {},
          "execution_count": 30
        }
      ]
    },
    {
      "cell_type": "code",
      "source": [
        "cursor=connection.cursor()"
      ],
      "metadata": {
        "id": "AIRpA_UeV0iH"
      },
      "execution_count": 32,
      "outputs": []
    },
    {
      "cell_type": "code",
      "source": [
        "cursor.execute('''\n",
        "  CREATE TABLE IF NOT EXISTS  sales(\n",
        "\n",
        "    id INTEGER PRIMARY KEY ,\n",
        "    date TEXT NOT NULL,\n",
        "    product TEXT NOT NULL,\n",
        "    sales INTEGER,\n",
        "    region TEXT\n",
        "  )\n",
        "''')\n",
        "\n",
        "\n",
        "# insert data into table\n",
        "\n",
        "sales=[\n",
        "    (1,'2022-01-01','Product A',100,'Region A'),\n",
        "    (2,'2022-01-02','Product B',50,'Region B'),\n",
        "    (3,'2022-01-03','Product C',200,'Region C'),\n",
        "    (4,'2022-01-04','Product A',150,'Region A'),\n",
        "]\n",
        "\n",
        "\n",
        "connection.commit()"
      ],
      "metadata": {
        "id": "H2Z-bsRjV6hR"
      },
      "execution_count": 33,
      "outputs": []
    },
    {
      "cell_type": "code",
      "source": [
        "cursor.executemany(\n",
        "    '''\n",
        "        insert into sales(id,date,product,sales,region)\n",
        "                  values(?,?,?,?,?)\n",
        "    ''',sales\n",
        ")\n",
        "\n",
        "connection.commit()"
      ],
      "metadata": {
        "id": "Bq9viHSsXCFB"
      },
      "execution_count": 34,
      "outputs": []
    },
    {
      "cell_type": "code",
      "source": [
        "# query from table\n",
        "\n",
        "cursor.execute(\n",
        "    '''\n",
        "        select * from sales\n",
        "    '''\n",
        ")\n",
        "\n",
        "results=cursor.fetchall()\n",
        "\n",
        "for row in results:\n",
        "    print(row)\n"
      ],
      "metadata": {
        "colab": {
          "base_uri": "https://localhost:8080/"
        },
        "id": "kyFl4XreXgHc",
        "outputId": "d48dae84-a4ae-439f-ce8c-f36f27f8143a"
      },
      "execution_count": 35,
      "outputs": [
        {
          "output_type": "stream",
          "name": "stdout",
          "text": [
            "(1, '2022-01-01', 'Product A', 100, 'Region A')\n",
            "(2, '2022-01-02', 'Product B', 50, 'Region B')\n",
            "(3, '2022-01-03', 'Product C', 200, 'Region C')\n",
            "(4, '2022-01-04', 'Product A', 150, 'Region A')\n"
          ]
        }
      ]
    },
    {
      "cell_type": "code",
      "source": [
        "# close the connection\n",
        "\n",
        "connection.close()"
      ],
      "metadata": {
        "id": "NWxIwxphX0DR"
      },
      "execution_count": 36,
      "outputs": []
    },
    {
      "cell_type": "code",
      "source": [
        "# query from table\n",
        "\n",
        "cursor.execute(\n",
        "    '''\n",
        "        select * from sales\n",
        "    '''\n",
        ")\n",
        "\n",
        "results=cursor.fetchall()\n",
        "\n",
        "for row in results:\n",
        "    print(row)\n",
        "\n",
        "\n",
        "    # probably get an error coz we have succesfully closed database connection"
      ],
      "metadata": {
        "colab": {
          "base_uri": "https://localhost:8080/",
          "height": 219
        },
        "id": "ML2sDmcpX7y6",
        "outputId": "8dcd36fb-3b1c-4506-ff07-f1b0d4dec888"
      },
      "execution_count": 38,
      "outputs": [
        {
          "output_type": "error",
          "ename": "ProgrammingError",
          "evalue": "Cannot operate on a closed database.",
          "traceback": [
            "\u001b[0;31m---------------------------------------------------------------------------\u001b[0m",
            "\u001b[0;31mProgrammingError\u001b[0m                          Traceback (most recent call last)",
            "\u001b[0;32m/tmp/ipython-input-38-2968460454.py\u001b[0m in \u001b[0;36m<cell line: 0>\u001b[0;34m()\u001b[0m\n\u001b[1;32m      1\u001b[0m \u001b[0;31m# query from table\u001b[0m\u001b[0;34m\u001b[0m\u001b[0;34m\u001b[0m\u001b[0m\n\u001b[1;32m      2\u001b[0m \u001b[0;34m\u001b[0m\u001b[0m\n\u001b[0;32m----> 3\u001b[0;31m cursor.execute(\n\u001b[0m\u001b[1;32m      4\u001b[0m     '''\n\u001b[1;32m      5\u001b[0m         \u001b[0mselect\u001b[0m \u001b[0;34m*\u001b[0m \u001b[0;32mfrom\u001b[0m \u001b[0msales\u001b[0m\u001b[0;34m\u001b[0m\u001b[0;34m\u001b[0m\u001b[0m\n",
            "\u001b[0;31mProgrammingError\u001b[0m: Cannot operate on a closed database."
          ]
        }
      ]
    }
  ]
}