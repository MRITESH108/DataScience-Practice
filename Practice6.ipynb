{
  "nbformat": 4,
  "nbformat_minor": 0,
  "metadata": {
    "colab": {
      "provenance": [],
      "authorship_tag": "ABX9TyMCrYbv18vL996q+meHTblb"
    },
    "kernelspec": {
      "name": "python3",
      "display_name": "Python 3"
    },
    "language_info": {
      "name": "python"
    }
  },
  "cells": [
    {
      "cell_type": "code",
      "execution_count": 2,
      "metadata": {
        "id": "MRit6UcBYx5o",
        "colab": {
          "base_uri": "https://localhost:8080/"
        },
        "outputId": "eb952ca0-a735-433b-c20c-129a0e5126d6"
      },
      "outputs": [
        {
          "output_type": "stream",
          "name": "stderr",
          "text": [
            "WARNING:root:This is a warning message\n",
            "ERROR:root:This is an error message\n",
            "CRITICAL:root:This is a critical message\n"
          ]
        }
      ],
      "source": [
        "import logging\n",
        "\n",
        "# configure the basic logging setting\n",
        "\n",
        "logging.basicConfig(level=logging.DEBUG)\n",
        "logging.debug('This is a debug message')\n",
        "logging.info('This is an info message')\n",
        "logging.warning('This is a warning message')\n",
        "logging.error('This is an error message')\n",
        "logging.critical('This is a critical message')\n"
      ]
    },
    {
      "cell_type": "code",
      "source": [
        "# configuring the logging format\n",
        "\n",
        "logging.basicConfig(\n",
        "    level=logging.DEBUG,\n",
        "    filename='app.log',\n",
        "    filemode='w',\n",
        "    format='%(name)s - %(levelname)s - %(message)s',\n",
        "    datefmt='%d-%b-%y %H:%M:%S'\n",
        ")\n",
        "\n",
        "logging.basicConfig(level=logging.DEBUG)\n",
        "logging.debug('This is a debug message')\n",
        "logging.info('This is an info message')\n",
        "logging.warning('This is a warning message')\n",
        "logging.error('This is an error message')\n",
        "logging.critical('This is a critical message')"
      ],
      "metadata": {
        "colab": {
          "base_uri": "https://localhost:8080/"
        },
        "id": "lr8oaCTowcFH",
        "outputId": "fe72ca4b-b394-483b-9f01-ada48b3eaa57"
      },
      "execution_count": 8,
      "outputs": [
        {
          "output_type": "stream",
          "name": "stderr",
          "text": [
            "WARNING:root:This is a warning message\n",
            "ERROR:root:This is an error message\n",
            "CRITICAL:root:This is a critical message\n"
          ]
        }
      ]
    },
    {
      "cell_type": "code",
      "source": [
        "import logging\n",
        "\n",
        "def add(x, y):\n",
        "    logging.debug(\"the addition operation taking place.\")\n",
        "    return x + y\n",
        "logging.debug(\"the addition function is added.\")\n",
        "add(20,28)"
      ],
      "metadata": {
        "colab": {
          "base_uri": "https://localhost:8080/"
        },
        "id": "SP0PqdnryWls",
        "outputId": "5a451c5f-dd28-43bd-c576-815b722689d3"
      },
      "execution_count": 12,
      "outputs": [
        {
          "output_type": "execute_result",
          "data": {
            "text/plain": [
              "48"
            ]
          },
          "metadata": {},
          "execution_count": 12
        }
      ]
    },
    {
      "cell_type": "code",
      "source": [],
      "metadata": {
        "id": "ITsNXemE0UE7"
      },
      "execution_count": null,
      "outputs": []
    }
  ]
}