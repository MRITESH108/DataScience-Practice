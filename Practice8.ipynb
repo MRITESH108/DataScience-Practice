{
  "nbformat": 4,
  "nbformat_minor": 0,
  "metadata": {
    "colab": {
      "provenance": [],
      "authorship_tag": "ABX9TyPnkaC05pjhffDP804rJzFL"
    },
    "kernelspec": {
      "name": "python3",
      "display_name": "Python 3"
    },
    "language_info": {
      "name": "python"
    }
  },
  "cells": [
    {
      "cell_type": "code",
      "execution_count": null,
      "metadata": {
        "id": "WccOo0TL7o91"
      },
      "outputs": [],
      "source": [
        "# things i have covered\n",
        "\n",
        "# basic python\n",
        "# file handling\n",
        "# exception handling\n",
        "# oops\n",
        "# multithreading\n",
        "# numpy\n",
        "# panda\n",
        "# matlpotlib\n",
        "# seaborn\n",
        "# SQLite3\n",
        "# logging\n",
        "\n",
        "\n",
        "\n"
      ]
    },
    {
      "cell_type": "code",
      "source": [
        "\n",
        "\n",
        "def printNumbers():\n",
        "  for i in range(10):\n",
        "    print(\"Number : {i}\")\n",
        "\n",
        "printNumbers()\n",
        "\n",
        "\n",
        "def printNumbers1():\n",
        "  for i in range(10):\n",
        "    print(f\"Number : {i}\")\n",
        "\n",
        "printNumbers1()"
      ],
      "metadata": {
        "colab": {
          "base_uri": "https://localhost:8080/"
        },
        "id": "bhr_47MshTkk",
        "outputId": "cbc7a6ad-4544-4796-90ab-d2e4a0f13063"
      },
      "execution_count": null,
      "outputs": [
        {
          "output_type": "stream",
          "name": "stdout",
          "text": [
            "Number : {i}\n",
            "Number : {i}\n",
            "Number : {i}\n",
            "Number : {i}\n",
            "Number : {i}\n",
            "Number : {i}\n",
            "Number : {i}\n",
            "Number : {i}\n",
            "Number : {i}\n",
            "Number : {i}\n",
            "Number : 0\n",
            "Number : 1\n",
            "Number : 2\n",
            "Number : 3\n",
            "Number : 4\n",
            "Number : 5\n",
            "Number : 6\n",
            "Number : 7\n",
            "Number : 8\n",
            "Number : 9\n"
          ]
        }
      ]
    },
    {
      "cell_type": "code",
      "source": [
        "import time\n",
        "import threading\n",
        "\n",
        "\n",
        "def printNumbers():\n",
        "  for i in range(10):\n",
        "    # time.sleep(1)\n",
        "    print(f\"Number : {i}\")\n",
        "\n",
        "def printLetters():\n",
        "  for i in \"range(10)\":\n",
        "    # time.sleep(2)\n",
        "    print(f\"Letter : {i}\")\n",
        "\n",
        "\n",
        "\n",
        "printLetters()\n",
        "print()\n",
        "printNumbers()\n",
        "\n"
      ],
      "metadata": {
        "colab": {
          "base_uri": "https://localhost:8080/"
        },
        "id": "ixtt7YJNiLhz",
        "outputId": "35f85da4-0de6-4eac-9e99-2e929e01964e"
      },
      "execution_count": null,
      "outputs": [
        {
          "output_type": "stream",
          "name": "stdout",
          "text": [
            "Letter : r\n",
            "Letter : a\n",
            "Letter : n\n",
            "Letter : g\n",
            "Letter : e\n",
            "Letter : (\n",
            "Letter : 1\n",
            "Letter : 0\n",
            "Letter : )\n",
            "\n",
            "Number : 0\n",
            "Number : 1\n",
            "Number : 2\n",
            "Number : 3\n",
            "Number : 4\n",
            "Number : 5\n",
            "Number : 6\n",
            "Number : 7\n",
            "Number : 8\n",
            "Number : 9\n"
          ]
        }
      ]
    },
    {
      "cell_type": "code",
      "source": [
        "import time\n",
        "import threading\n",
        "\n",
        "\n",
        "# single threading\n",
        "\n",
        "def printNumbers():\n",
        "  for i in range(10):\n",
        "    # time.sleep(1)\n",
        "    print(f\"Number : {i}\")\n",
        "\n",
        "def printLetters():\n",
        "  for i in \"range(10)\":\n",
        "    time.sleep(5)\n",
        "    print(f\"Letter : {i}\")\n",
        "\n",
        "\n",
        "t=time.time()\n",
        "printLetters()\n",
        "print()\n",
        "printNumbers()\n",
        "\n",
        "finishTime=time.time()-t\n",
        "print(finishTime)"
      ],
      "metadata": {
        "colab": {
          "base_uri": "https://localhost:8080/"
        },
        "id": "kxODo5ZhjLK6",
        "outputId": "03ec675e-6dd1-4476-cb31-6f72e74b7ea5"
      },
      "execution_count": null,
      "outputs": [
        {
          "output_type": "stream",
          "name": "stdout",
          "text": [
            "Letter : r\n",
            "Letter : a\n",
            "Letter : n\n",
            "Letter : g\n",
            "Letter : e\n",
            "Letter : (\n",
            "Letter : 1\n",
            "Letter : 0\n",
            "Letter : )\n",
            "\n",
            "Number : 0\n",
            "Number : 1\n",
            "Number : 2\n",
            "Number : 3\n",
            "Number : 4\n",
            "Number : 5\n",
            "Number : 6\n",
            "Number : 7\n",
            "Number : 8\n",
            "Number : 9\n",
            "45.003050088882446\n"
          ]
        }
      ]
    },
    {
      "cell_type": "code",
      "source": [
        "# create 2 two thread\n",
        "\n",
        "import time\n",
        "import threading\n",
        "\n",
        "\n",
        "\n",
        "\n",
        "def printNumbers():\n",
        "  for i in range(10):\n",
        "    time.sleep(1)\n",
        "    print(f\"Number : {i}\")\n",
        "\n",
        "def printLetters():\n",
        "  for i in \"range(10)\":\n",
        "    time.sleep(2)\n",
        "    print(f\"Letter : {i}\")\n",
        "\n",
        "\n",
        "t1=threading.Thread(target=printLetters)\n",
        "t2=threading.Thread(target=printNumbers)\n",
        "\n",
        "t=time.time()\n",
        "\n",
        "# start the thread\n",
        "\n",
        "t1.start()\n",
        "t2.start()\n",
        "\n",
        "# wait for the thread to complete\n",
        "t1.join()\n",
        "t2.join()\n",
        "\n",
        "finishTime=time.time()-t\n",
        "print(finishTime)\n"
      ],
      "metadata": {
        "colab": {
          "base_uri": "https://localhost:8080/"
        },
        "id": "rvITgvgblqFe",
        "outputId": "48ba1437-ff17-4857-d8a0-6c87019a3917"
      },
      "execution_count": null,
      "outputs": [
        {
          "output_type": "stream",
          "name": "stdout",
          "text": [
            "Number : 0\n",
            "Letter : r\n",
            "Number : 1\n",
            "Number : 2\n",
            "Letter : a\n",
            "Number : 3\n",
            "Number : 4\n",
            "Letter : n\n",
            "Number : 5\n",
            "Number : 6\n",
            "Letter : g\n",
            "Number : 7\n",
            "Number : 8\n",
            "Letter : e\n",
            "Number : 9\n",
            "Letter : (\n",
            "Letter : 1\n",
            "Letter : 0\n",
            "Letter : )\n",
            "18.003404140472412\n"
          ]
        }
      ]
    },
    {
      "cell_type": "code",
      "source": [
        "# multiprocesssing techniques"
      ],
      "metadata": {
        "id": "2DyAAkNtm38l"
      },
      "execution_count": null,
      "outputs": []
    },
    {
      "cell_type": "code",
      "source": [
        "import multiprocessing\n",
        "import time\n",
        "\n",
        "def squareNumbers():\n",
        "  for i in range(10):\n",
        "    time.sleep(1)\n",
        "    print(f\"Square of {i} : {i*i}\")\n",
        "\n",
        "def cubeNumbers():\n",
        "  for i in range(10):\n",
        "    time.sleep(1.5)\n",
        "    print(f\"Cube of {i} : {i*i*i}\")\n",
        "\n",
        "if __name__ == \"__main__\":\n",
        "      k=multiprocessing.Process(target=squareNumbers)\n",
        "      l=multiprocessing.Process(target=cubeNumbers)\n",
        "\n",
        "      t=time.time()\n",
        "\n",
        "      # start the process\n",
        "      k.start()\n",
        "      l.start()\n",
        "\n",
        "      # wait for the process to complete\n",
        "      k.join()\n",
        "      l.join()\n",
        "\n",
        "      finishTime=time.time()-t\n",
        "      print(finishTime)"
      ],
      "metadata": {
        "colab": {
          "base_uri": "https://localhost:8080/"
        },
        "id": "OKzixHAKm8Kc",
        "outputId": "c5acdcf7-ceee-4e68-bfce-b57192b7b8f8"
      },
      "execution_count": null,
      "outputs": [
        {
          "output_type": "stream",
          "name": "stdout",
          "text": [
            "Square of 0 : 0\n",
            "Cube of 0 : 0\n",
            "Square of 1 : 1\n",
            "Cube of 1 : 1\n",
            "Square of 2 : 4\n",
            "Square of 3 : 9\n",
            "Cube of 2 : 8\n",
            "Square of 4 : 16\n",
            "Cube of 3 : 27\n",
            "Square of 5 : 25\n",
            "Square of 6 : 36\n",
            "Cube of 4 : 64\n",
            "Square of 7 : 49\n",
            "Cube of 5 : 125\n",
            "Square of 8 : 64\n",
            "Square of 9 : 81\n",
            "Cube of 6 : 216\n",
            "Cube of 7 : 343\n",
            "Cube of 8 : 512\n",
            "Cube of 9 : 729\n",
            "15.07319712638855\n"
          ]
        }
      ]
    },
    {
      "cell_type": "code",
      "source": [
        "# Thread pool executor And process pool executor"
      ],
      "metadata": {
        "id": "vKga6VPTpZoE"
      },
      "execution_count": null,
      "outputs": []
    },
    {
      "cell_type": "code",
      "source": [
        "# MultiThreading and thread pool executor\n",
        "\n",
        "from concurrent.futures import ThreadPoolExecutor\n",
        "import time\n",
        "\n",
        "\n",
        "def printNumbers(number):\n",
        "  time.sleep(1)\n",
        "  return f\"Number : {number}\"\n",
        "\n",
        "numbers=[1,2,3,4,5,2,32,32,23,4345,543,545,6,4343,54325346]\n",
        "\n",
        "with ThreadPoolExecutor(max_workers=3) as executor:\n",
        "  results=executor.map(printNumbers,numbers)\n",
        "\n",
        "t=time.time()\n",
        "for result in results:\n",
        "    print(result)\n",
        "\n",
        "finishTime=time.time()-t\n",
        "print(finishTime)\n",
        "\n",
        "  # it get executed very fast even though we use sleep as 1 sec coz we have used 3 threads simultaneously"
      ],
      "metadata": {
        "colab": {
          "base_uri": "https://localhost:8080/"
        },
        "id": "w34z5NagOaYQ",
        "outputId": "57313427-54e8-4d96-92e4-604559052482"
      },
      "execution_count": null,
      "outputs": [
        {
          "output_type": "stream",
          "name": "stdout",
          "text": [
            "Number : 1\n",
            "Number : 2\n",
            "Number : 3\n",
            "Number : 4\n",
            "Number : 5\n",
            "Number : 2\n",
            "Number : 32\n",
            "Number : 32\n",
            "Number : 23\n",
            "Number : 4345\n",
            "Number : 543\n",
            "Number : 545\n",
            "Number : 6\n",
            "Number : 4343\n",
            "Number : 54325346\n",
            "0.0003707408905029297\n"
          ]
        }
      ]
    },
    {
      "cell_type": "code",
      "source": [
        "# Multi processing wirh process pool executor\n",
        "\n",
        "\n",
        "from concurrent.futures import ProcessPoolExecutor\n",
        "import time\n",
        "\n",
        "\n",
        "\n",
        "def squareNumbers(number):\n",
        "  time.sleep(5)\n",
        "  return f\"Square of {number} is  : {number*number}\"\n",
        "\n",
        "numbers=[1,2,3,4,5,2,32,32,23,4345,543,545,6,4343,54325346]\n",
        "\n",
        "if __name__==\"__main__\":\n",
        "  with ProcessPoolExecutor(max_workers=3) as executor:\n",
        "     results=executor.map(squareNumbers,numbers)\n",
        "\n",
        "  for result in results:\n",
        "    print(result)"
      ],
      "metadata": {
        "id": "xnwzbJ6QQ0j0",
        "colab": {
          "base_uri": "https://localhost:8080/"
        },
        "outputId": "305f0669-cd17-4d0f-986c-2d5fe118cebe"
      },
      "execution_count": 10,
      "outputs": [
        {
          "output_type": "stream",
          "name": "stdout",
          "text": [
            "Square of 1 is  : 1\n",
            "Square of 2 is  : 4\n",
            "Square of 3 is  : 9\n",
            "Square of 4 is  : 16\n",
            "Square of 5 is  : 25\n",
            "Square of 2 is  : 4\n",
            "Square of 32 is  : 1024\n",
            "Square of 32 is  : 1024\n",
            "Square of 23 is  : 529\n",
            "Square of 4345 is  : 18879025\n",
            "Square of 543 is  : 294849\n",
            "Square of 545 is  : 297025\n",
            "Square of 6 is  : 36\n",
            "Square of 4343 is  : 18861649\n",
            "Square of 54325346 is  : 2951243218019716\n"
          ]
        }
      ]
    },
    {
      "cell_type": "code",
      "source": [],
      "metadata": {
        "id": "IHnR2se9ZMPX"
      },
      "execution_count": null,
      "outputs": []
    }
  ]
}